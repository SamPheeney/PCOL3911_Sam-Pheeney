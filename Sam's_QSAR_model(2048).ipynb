{
  "nbformat": 4,
  "nbformat_minor": 0,
  "metadata": {
    "colab": {
      "provenance": [],
      "include_colab_link": true
    },
    "kernelspec": {
      "name": "python3",
      "display_name": "Python 3"
    },
    "language_info": {
      "name": "python"
    }
  },
  "cells": [
    {
      "cell_type": "markdown",
      "metadata": {
        "id": "view-in-github",
        "colab_type": "text"
      },
      "source": [
        "<a href=\"https://colab.research.google.com/github/SamPheeney/PCOL3911_Sam-Pheeney/blob/main/Sam's_QSAR_model(2048).ipynb\" target=\"_parent\"><img src=\"https://colab.research.google.com/assets/colab-badge.svg\" alt=\"Open In Colab\"/></a>"
      ]
    },
    {
      "cell_type": "markdown",
      "source": [
        "## Create a model to predict IC50 or whatever... regression output."
      ],
      "metadata": {
        "id": "n1fuM-9OP8-1"
      }
    },
    {
      "cell_type": "markdown",
      "source": [
        "#BEFORE YOU START:\n",
        "\n",
        "Save your own copy of this page in your drive: Click File and choose \"save in drive\""
      ],
      "metadata": {
        "id": "tJvK_Ryn05vd"
      }
    },
    {
      "cell_type": "code",
      "source": [
        "import pandas as pd\n",
        "data = pd.read_csv(\"https://raw.githubusercontent.com/SamPheeney/PCOL3911_Sam-Pheeney/main/PCOL3911%20-%20Sam%20Pheeney/organophosphate(2048)_fp.csv\")"
      ],
      "metadata": {
        "id": "WnkQ5frnRp87"
      },
      "execution_count": 1,
      "outputs": []
    },
    {
      "cell_type": "code",
      "source": [
        "from sklearn.ensemble import RandomForestRegressor\n",
        "from sklearn.datasets import make_regression\n",
        "from sklearn.metrics import mean_squared_error\n",
        "from sklearn.model_selection import train_test_split\n",
        "from sklearn.preprocessing import scale\n",
        "import matplotlib.pyplot as plt\n",
        "from sklearn import set_config"
      ],
      "metadata": {
        "id": "7I3ena11QJY9"
      },
      "execution_count": 2,
      "outputs": []
    },
    {
      "cell_type": "code",
      "source": [
        "# Have a look at our data\n",
        "data.head(2)"
      ],
      "metadata": {
        "colab": {
          "base_uri": "https://localhost:8080/",
          "height": 141
        },
        "id": "yyqV-m7pdTgS",
        "outputId": "eebb6b89-64d5-46f5-ab69-bc0badebaf3f"
      },
      "execution_count": 3,
      "outputs": [
        {
          "output_type": "execute_result",
          "data": {
            "text/plain": [
              "   0  1  2  3  4  5  6  7  8  9  ...  2039  2040  2041  2042  2043  2044  \\\n",
              "0  0  0  0  0  0  0  0  0  0  0  ...     0     0     0     0     0     0   \n",
              "1  0  0  0  0  0  0  0  0  0  0  ...     0     0     0     0     0     0   \n",
              "\n",
              "   2045  2046  2047  Expr  \n",
              "0     0     0     0  2.34  \n",
              "1     0     0     0  2.69  \n",
              "\n",
              "[2 rows x 2049 columns]"
            ],
            "text/html": [
              "\n",
              "  <div id=\"df-ed3ffcd5-35ce-488f-be0e-017fb9276b51\" class=\"colab-df-container\">\n",
              "    <div>\n",
              "<style scoped>\n",
              "    .dataframe tbody tr th:only-of-type {\n",
              "        vertical-align: middle;\n",
              "    }\n",
              "\n",
              "    .dataframe tbody tr th {\n",
              "        vertical-align: top;\n",
              "    }\n",
              "\n",
              "    .dataframe thead th {\n",
              "        text-align: right;\n",
              "    }\n",
              "</style>\n",
              "<table border=\"1\" class=\"dataframe\">\n",
              "  <thead>\n",
              "    <tr style=\"text-align: right;\">\n",
              "      <th></th>\n",
              "      <th>0</th>\n",
              "      <th>1</th>\n",
              "      <th>2</th>\n",
              "      <th>3</th>\n",
              "      <th>4</th>\n",
              "      <th>5</th>\n",
              "      <th>6</th>\n",
              "      <th>7</th>\n",
              "      <th>8</th>\n",
              "      <th>9</th>\n",
              "      <th>...</th>\n",
              "      <th>2039</th>\n",
              "      <th>2040</th>\n",
              "      <th>2041</th>\n",
              "      <th>2042</th>\n",
              "      <th>2043</th>\n",
              "      <th>2044</th>\n",
              "      <th>2045</th>\n",
              "      <th>2046</th>\n",
              "      <th>2047</th>\n",
              "      <th>Expr</th>\n",
              "    </tr>\n",
              "  </thead>\n",
              "  <tbody>\n",
              "    <tr>\n",
              "      <th>0</th>\n",
              "      <td>0</td>\n",
              "      <td>0</td>\n",
              "      <td>0</td>\n",
              "      <td>0</td>\n",
              "      <td>0</td>\n",
              "      <td>0</td>\n",
              "      <td>0</td>\n",
              "      <td>0</td>\n",
              "      <td>0</td>\n",
              "      <td>0</td>\n",
              "      <td>...</td>\n",
              "      <td>0</td>\n",
              "      <td>0</td>\n",
              "      <td>0</td>\n",
              "      <td>0</td>\n",
              "      <td>0</td>\n",
              "      <td>0</td>\n",
              "      <td>0</td>\n",
              "      <td>0</td>\n",
              "      <td>0</td>\n",
              "      <td>2.34</td>\n",
              "    </tr>\n",
              "    <tr>\n",
              "      <th>1</th>\n",
              "      <td>0</td>\n",
              "      <td>0</td>\n",
              "      <td>0</td>\n",
              "      <td>0</td>\n",
              "      <td>0</td>\n",
              "      <td>0</td>\n",
              "      <td>0</td>\n",
              "      <td>0</td>\n",
              "      <td>0</td>\n",
              "      <td>0</td>\n",
              "      <td>...</td>\n",
              "      <td>0</td>\n",
              "      <td>0</td>\n",
              "      <td>0</td>\n",
              "      <td>0</td>\n",
              "      <td>0</td>\n",
              "      <td>0</td>\n",
              "      <td>0</td>\n",
              "      <td>0</td>\n",
              "      <td>0</td>\n",
              "      <td>2.69</td>\n",
              "    </tr>\n",
              "  </tbody>\n",
              "</table>\n",
              "<p>2 rows × 2049 columns</p>\n",
              "</div>\n",
              "    <div class=\"colab-df-buttons\">\n",
              "\n",
              "  <div class=\"colab-df-container\">\n",
              "    <button class=\"colab-df-convert\" onclick=\"convertToInteractive('df-ed3ffcd5-35ce-488f-be0e-017fb9276b51')\"\n",
              "            title=\"Convert this dataframe to an interactive table.\"\n",
              "            style=\"display:none;\">\n",
              "\n",
              "  <svg xmlns=\"http://www.w3.org/2000/svg\" height=\"24px\" viewBox=\"0 -960 960 960\">\n",
              "    <path d=\"M120-120v-720h720v720H120Zm60-500h600v-160H180v160Zm220 220h160v-160H400v160Zm0 220h160v-160H400v160ZM180-400h160v-160H180v160Zm440 0h160v-160H620v160ZM180-180h160v-160H180v160Zm440 0h160v-160H620v160Z\"/>\n",
              "  </svg>\n",
              "    </button>\n",
              "\n",
              "  <style>\n",
              "    .colab-df-container {\n",
              "      display:flex;\n",
              "      gap: 12px;\n",
              "    }\n",
              "\n",
              "    .colab-df-convert {\n",
              "      background-color: #E8F0FE;\n",
              "      border: none;\n",
              "      border-radius: 50%;\n",
              "      cursor: pointer;\n",
              "      display: none;\n",
              "      fill: #1967D2;\n",
              "      height: 32px;\n",
              "      padding: 0 0 0 0;\n",
              "      width: 32px;\n",
              "    }\n",
              "\n",
              "    .colab-df-convert:hover {\n",
              "      background-color: #E2EBFA;\n",
              "      box-shadow: 0px 1px 2px rgba(60, 64, 67, 0.3), 0px 1px 3px 1px rgba(60, 64, 67, 0.15);\n",
              "      fill: #174EA6;\n",
              "    }\n",
              "\n",
              "    .colab-df-buttons div {\n",
              "      margin-bottom: 4px;\n",
              "    }\n",
              "\n",
              "    [theme=dark] .colab-df-convert {\n",
              "      background-color: #3B4455;\n",
              "      fill: #D2E3FC;\n",
              "    }\n",
              "\n",
              "    [theme=dark] .colab-df-convert:hover {\n",
              "      background-color: #434B5C;\n",
              "      box-shadow: 0px 1px 3px 1px rgba(0, 0, 0, 0.15);\n",
              "      filter: drop-shadow(0px 1px 2px rgba(0, 0, 0, 0.3));\n",
              "      fill: #FFFFFF;\n",
              "    }\n",
              "  </style>\n",
              "\n",
              "    <script>\n",
              "      const buttonEl =\n",
              "        document.querySelector('#df-ed3ffcd5-35ce-488f-be0e-017fb9276b51 button.colab-df-convert');\n",
              "      buttonEl.style.display =\n",
              "        google.colab.kernel.accessAllowed ? 'block' : 'none';\n",
              "\n",
              "      async function convertToInteractive(key) {\n",
              "        const element = document.querySelector('#df-ed3ffcd5-35ce-488f-be0e-017fb9276b51');\n",
              "        const dataTable =\n",
              "          await google.colab.kernel.invokeFunction('convertToInteractive',\n",
              "                                                    [key], {});\n",
              "        if (!dataTable) return;\n",
              "\n",
              "        const docLinkHtml = 'Like what you see? Visit the ' +\n",
              "          '<a target=\"_blank\" href=https://colab.research.google.com/notebooks/data_table.ipynb>data table notebook</a>'\n",
              "          + ' to learn more about interactive tables.';\n",
              "        element.innerHTML = '';\n",
              "        dataTable['output_type'] = 'display_data';\n",
              "        await google.colab.output.renderOutput(dataTable, element);\n",
              "        const docLink = document.createElement('div');\n",
              "        docLink.innerHTML = docLinkHtml;\n",
              "        element.appendChild(docLink);\n",
              "      }\n",
              "    </script>\n",
              "  </div>\n",
              "\n",
              "\n",
              "<div id=\"df-d6df8a34-4fa5-48f6-a383-071ea053d640\">\n",
              "  <button class=\"colab-df-quickchart\" onclick=\"quickchart('df-d6df8a34-4fa5-48f6-a383-071ea053d640')\"\n",
              "            title=\"Suggest charts\"\n",
              "            style=\"display:none;\">\n",
              "\n",
              "<svg xmlns=\"http://www.w3.org/2000/svg\" height=\"24px\"viewBox=\"0 0 24 24\"\n",
              "     width=\"24px\">\n",
              "    <g>\n",
              "        <path d=\"M19 3H5c-1.1 0-2 .9-2 2v14c0 1.1.9 2 2 2h14c1.1 0 2-.9 2-2V5c0-1.1-.9-2-2-2zM9 17H7v-7h2v7zm4 0h-2V7h2v10zm4 0h-2v-4h2v4z\"/>\n",
              "    </g>\n",
              "</svg>\n",
              "  </button>\n",
              "\n",
              "<style>\n",
              "  .colab-df-quickchart {\n",
              "      --bg-color: #E8F0FE;\n",
              "      --fill-color: #1967D2;\n",
              "      --hover-bg-color: #E2EBFA;\n",
              "      --hover-fill-color: #174EA6;\n",
              "      --disabled-fill-color: #AAA;\n",
              "      --disabled-bg-color: #DDD;\n",
              "  }\n",
              "\n",
              "  [theme=dark] .colab-df-quickchart {\n",
              "      --bg-color: #3B4455;\n",
              "      --fill-color: #D2E3FC;\n",
              "      --hover-bg-color: #434B5C;\n",
              "      --hover-fill-color: #FFFFFF;\n",
              "      --disabled-bg-color: #3B4455;\n",
              "      --disabled-fill-color: #666;\n",
              "  }\n",
              "\n",
              "  .colab-df-quickchart {\n",
              "    background-color: var(--bg-color);\n",
              "    border: none;\n",
              "    border-radius: 50%;\n",
              "    cursor: pointer;\n",
              "    display: none;\n",
              "    fill: var(--fill-color);\n",
              "    height: 32px;\n",
              "    padding: 0;\n",
              "    width: 32px;\n",
              "  }\n",
              "\n",
              "  .colab-df-quickchart:hover {\n",
              "    background-color: var(--hover-bg-color);\n",
              "    box-shadow: 0 1px 2px rgba(60, 64, 67, 0.3), 0 1px 3px 1px rgba(60, 64, 67, 0.15);\n",
              "    fill: var(--button-hover-fill-color);\n",
              "  }\n",
              "\n",
              "  .colab-df-quickchart-complete:disabled,\n",
              "  .colab-df-quickchart-complete:disabled:hover {\n",
              "    background-color: var(--disabled-bg-color);\n",
              "    fill: var(--disabled-fill-color);\n",
              "    box-shadow: none;\n",
              "  }\n",
              "\n",
              "  .colab-df-spinner {\n",
              "    border: 2px solid var(--fill-color);\n",
              "    border-color: transparent;\n",
              "    border-bottom-color: var(--fill-color);\n",
              "    animation:\n",
              "      spin 1s steps(1) infinite;\n",
              "  }\n",
              "\n",
              "  @keyframes spin {\n",
              "    0% {\n",
              "      border-color: transparent;\n",
              "      border-bottom-color: var(--fill-color);\n",
              "      border-left-color: var(--fill-color);\n",
              "    }\n",
              "    20% {\n",
              "      border-color: transparent;\n",
              "      border-left-color: var(--fill-color);\n",
              "      border-top-color: var(--fill-color);\n",
              "    }\n",
              "    30% {\n",
              "      border-color: transparent;\n",
              "      border-left-color: var(--fill-color);\n",
              "      border-top-color: var(--fill-color);\n",
              "      border-right-color: var(--fill-color);\n",
              "    }\n",
              "    40% {\n",
              "      border-color: transparent;\n",
              "      border-right-color: var(--fill-color);\n",
              "      border-top-color: var(--fill-color);\n",
              "    }\n",
              "    60% {\n",
              "      border-color: transparent;\n",
              "      border-right-color: var(--fill-color);\n",
              "    }\n",
              "    80% {\n",
              "      border-color: transparent;\n",
              "      border-right-color: var(--fill-color);\n",
              "      border-bottom-color: var(--fill-color);\n",
              "    }\n",
              "    90% {\n",
              "      border-color: transparent;\n",
              "      border-bottom-color: var(--fill-color);\n",
              "    }\n",
              "  }\n",
              "</style>\n",
              "\n",
              "  <script>\n",
              "    async function quickchart(key) {\n",
              "      const quickchartButtonEl =\n",
              "        document.querySelector('#' + key + ' button');\n",
              "      quickchartButtonEl.disabled = true;  // To prevent multiple clicks.\n",
              "      quickchartButtonEl.classList.add('colab-df-spinner');\n",
              "      try {\n",
              "        const charts = await google.colab.kernel.invokeFunction(\n",
              "            'suggestCharts', [key], {});\n",
              "      } catch (error) {\n",
              "        console.error('Error during call to suggestCharts:', error);\n",
              "      }\n",
              "      quickchartButtonEl.classList.remove('colab-df-spinner');\n",
              "      quickchartButtonEl.classList.add('colab-df-quickchart-complete');\n",
              "    }\n",
              "    (() => {\n",
              "      let quickchartButtonEl =\n",
              "        document.querySelector('#df-d6df8a34-4fa5-48f6-a383-071ea053d640 button');\n",
              "      quickchartButtonEl.style.display =\n",
              "        google.colab.kernel.accessAllowed ? 'block' : 'none';\n",
              "    })();\n",
              "  </script>\n",
              "</div>\n",
              "\n",
              "    </div>\n",
              "  </div>\n"
            ],
            "application/vnd.google.colaboratory.intrinsic+json": {
              "type": "dataframe",
              "variable_name": "data"
            }
          },
          "metadata": {},
          "execution_count": 3
        }
      ]
    },
    {
      "cell_type": "code",
      "source": [
        "# We can look at the output of data.iloc to make sure we are getting the right values in our x and y dataframes.\n",
        "# Note the fist coordinates (that go into iloc) are rows and the second set are columns\n",
        "data.iloc[:1,:1024]"
      ],
      "metadata": {
        "colab": {
          "base_uri": "https://localhost:8080/",
          "height": 110
        },
        "id": "YW75EmIpXWGH",
        "outputId": "4608a54e-bb5a-4657-a5b3-58ee28f3bdb2"
      },
      "execution_count": 4,
      "outputs": [
        {
          "output_type": "execute_result",
          "data": {
            "text/plain": [
              "   0  1  2  3  4  5  6  7  8  9  ...  1014  1015  1016  1017  1018  1019  \\\n",
              "0  0  0  0  0  0  0  0  0  0  0  ...     0     0     0     0     0     0   \n",
              "\n",
              "   1020  1021  1022  1023  \n",
              "0     0     0     0     0  \n",
              "\n",
              "[1 rows x 1024 columns]"
            ],
            "text/html": [
              "\n",
              "  <div id=\"df-1fa27420-56a0-4425-b420-f646046917db\" class=\"colab-df-container\">\n",
              "    <div>\n",
              "<style scoped>\n",
              "    .dataframe tbody tr th:only-of-type {\n",
              "        vertical-align: middle;\n",
              "    }\n",
              "\n",
              "    .dataframe tbody tr th {\n",
              "        vertical-align: top;\n",
              "    }\n",
              "\n",
              "    .dataframe thead th {\n",
              "        text-align: right;\n",
              "    }\n",
              "</style>\n",
              "<table border=\"1\" class=\"dataframe\">\n",
              "  <thead>\n",
              "    <tr style=\"text-align: right;\">\n",
              "      <th></th>\n",
              "      <th>0</th>\n",
              "      <th>1</th>\n",
              "      <th>2</th>\n",
              "      <th>3</th>\n",
              "      <th>4</th>\n",
              "      <th>5</th>\n",
              "      <th>6</th>\n",
              "      <th>7</th>\n",
              "      <th>8</th>\n",
              "      <th>9</th>\n",
              "      <th>...</th>\n",
              "      <th>1014</th>\n",
              "      <th>1015</th>\n",
              "      <th>1016</th>\n",
              "      <th>1017</th>\n",
              "      <th>1018</th>\n",
              "      <th>1019</th>\n",
              "      <th>1020</th>\n",
              "      <th>1021</th>\n",
              "      <th>1022</th>\n",
              "      <th>1023</th>\n",
              "    </tr>\n",
              "  </thead>\n",
              "  <tbody>\n",
              "    <tr>\n",
              "      <th>0</th>\n",
              "      <td>0</td>\n",
              "      <td>0</td>\n",
              "      <td>0</td>\n",
              "      <td>0</td>\n",
              "      <td>0</td>\n",
              "      <td>0</td>\n",
              "      <td>0</td>\n",
              "      <td>0</td>\n",
              "      <td>0</td>\n",
              "      <td>0</td>\n",
              "      <td>...</td>\n",
              "      <td>0</td>\n",
              "      <td>0</td>\n",
              "      <td>0</td>\n",
              "      <td>0</td>\n",
              "      <td>0</td>\n",
              "      <td>0</td>\n",
              "      <td>0</td>\n",
              "      <td>0</td>\n",
              "      <td>0</td>\n",
              "      <td>0</td>\n",
              "    </tr>\n",
              "  </tbody>\n",
              "</table>\n",
              "<p>1 rows × 1024 columns</p>\n",
              "</div>\n",
              "    <div class=\"colab-df-buttons\">\n",
              "\n",
              "  <div class=\"colab-df-container\">\n",
              "    <button class=\"colab-df-convert\" onclick=\"convertToInteractive('df-1fa27420-56a0-4425-b420-f646046917db')\"\n",
              "            title=\"Convert this dataframe to an interactive table.\"\n",
              "            style=\"display:none;\">\n",
              "\n",
              "  <svg xmlns=\"http://www.w3.org/2000/svg\" height=\"24px\" viewBox=\"0 -960 960 960\">\n",
              "    <path d=\"M120-120v-720h720v720H120Zm60-500h600v-160H180v160Zm220 220h160v-160H400v160Zm0 220h160v-160H400v160ZM180-400h160v-160H180v160Zm440 0h160v-160H620v160ZM180-180h160v-160H180v160Zm440 0h160v-160H620v160Z\"/>\n",
              "  </svg>\n",
              "    </button>\n",
              "\n",
              "  <style>\n",
              "    .colab-df-container {\n",
              "      display:flex;\n",
              "      gap: 12px;\n",
              "    }\n",
              "\n",
              "    .colab-df-convert {\n",
              "      background-color: #E8F0FE;\n",
              "      border: none;\n",
              "      border-radius: 50%;\n",
              "      cursor: pointer;\n",
              "      display: none;\n",
              "      fill: #1967D2;\n",
              "      height: 32px;\n",
              "      padding: 0 0 0 0;\n",
              "      width: 32px;\n",
              "    }\n",
              "\n",
              "    .colab-df-convert:hover {\n",
              "      background-color: #E2EBFA;\n",
              "      box-shadow: 0px 1px 2px rgba(60, 64, 67, 0.3), 0px 1px 3px 1px rgba(60, 64, 67, 0.15);\n",
              "      fill: #174EA6;\n",
              "    }\n",
              "\n",
              "    .colab-df-buttons div {\n",
              "      margin-bottom: 4px;\n",
              "    }\n",
              "\n",
              "    [theme=dark] .colab-df-convert {\n",
              "      background-color: #3B4455;\n",
              "      fill: #D2E3FC;\n",
              "    }\n",
              "\n",
              "    [theme=dark] .colab-df-convert:hover {\n",
              "      background-color: #434B5C;\n",
              "      box-shadow: 0px 1px 3px 1px rgba(0, 0, 0, 0.15);\n",
              "      filter: drop-shadow(0px 1px 2px rgba(0, 0, 0, 0.3));\n",
              "      fill: #FFFFFF;\n",
              "    }\n",
              "  </style>\n",
              "\n",
              "    <script>\n",
              "      const buttonEl =\n",
              "        document.querySelector('#df-1fa27420-56a0-4425-b420-f646046917db button.colab-df-convert');\n",
              "      buttonEl.style.display =\n",
              "        google.colab.kernel.accessAllowed ? 'block' : 'none';\n",
              "\n",
              "      async function convertToInteractive(key) {\n",
              "        const element = document.querySelector('#df-1fa27420-56a0-4425-b420-f646046917db');\n",
              "        const dataTable =\n",
              "          await google.colab.kernel.invokeFunction('convertToInteractive',\n",
              "                                                    [key], {});\n",
              "        if (!dataTable) return;\n",
              "\n",
              "        const docLinkHtml = 'Like what you see? Visit the ' +\n",
              "          '<a target=\"_blank\" href=https://colab.research.google.com/notebooks/data_table.ipynb>data table notebook</a>'\n",
              "          + ' to learn more about interactive tables.';\n",
              "        element.innerHTML = '';\n",
              "        dataTable['output_type'] = 'display_data';\n",
              "        await google.colab.output.renderOutput(dataTable, element);\n",
              "        const docLink = document.createElement('div');\n",
              "        docLink.innerHTML = docLinkHtml;\n",
              "        element.appendChild(docLink);\n",
              "      }\n",
              "    </script>\n",
              "  </div>\n",
              "\n",
              "\n",
              "    </div>\n",
              "  </div>\n"
            ],
            "application/vnd.google.colaboratory.intrinsic+json": {
              "type": "dataframe"
            }
          },
          "metadata": {},
          "execution_count": 4
        }
      ]
    },
    {
      "cell_type": "code",
      "source": [
        "#Load data from pandas dataframe\n",
        "X = data.iloc[:,:1024]\n",
        "Y = data['Expr'].values"
      ],
      "metadata": {
        "id": "Wv1YWCBBQUGf"
      },
      "execution_count": 5,
      "outputs": []
    },
    {
      "cell_type": "code",
      "source": [
        "Y.shape # shape shows that it is a single column with 114 values"
      ],
      "metadata": {
        "colab": {
          "base_uri": "https://localhost:8080/"
        },
        "id": "n-rUDG5UYk3R",
        "outputId": "35223d30-1162-4959-e635-54b57f6edf35"
      },
      "execution_count": 6,
      "outputs": [
        {
          "output_type": "execute_result",
          "data": {
            "text/plain": [
              "(278,)"
            ]
          },
          "metadata": {},
          "execution_count": 6
        }
      ]
    },
    {
      "cell_type": "code",
      "execution_count": 7,
      "metadata": {
        "colab": {
          "base_uri": "https://localhost:8080/"
        },
        "id": "iD5-9JRDP8O4",
        "outputId": "d7b1e806-ccaa-49a0-ed7a-67532ee37878"
      },
      "outputs": [
        {
          "output_type": "stream",
          "name": "stdout",
          "text": [
            "Training Scores\n",
            "_______________\n",
            "Correlation: 0.9843557906555961\n",
            "R-squared: 0.9661928914837171\n",
            "MSE:  0.09268865715173502\n",
            "RMSE:  0.3044481189820936\n"
          ]
        }
      ],
      "source": [
        "#Use randomForestRegressor to generate regression model\n",
        "# Note the train_test_split function is creating a 15% test set. RandomState is set to an integer value\n",
        "#the code creates the same split each time and the results don't change.\n",
        "import numpy as np\n",
        "xtrain, xtest, Ytrain, Ytest = train_test_split(X, Y, test_size=.15, random_state=42)\n",
        "\n",
        "#Click below for SKLearn Docs.\n",
        "#https://scikit-learn.org/stable/modules/generated/sklearn.ensemble.RandomForestRegressor.html\n",
        "rfr = RandomForestRegressor(random_state=42)\n",
        "rfr.fit(xtrain, Ytrain)\n",
        "\n",
        "ypred_train = rfr.predict(xtrain)\n",
        "\n",
        "print(\"Training Scores\")\n",
        "print(\"_______________\")\n",
        "correlation = np.corrcoef(ypred_train, Ytrain)[0,1]\n",
        "print(\"Correlation:\", correlation)\n",
        "score = rfr.score(xtrain, Ytrain)\n",
        "print(\"R-squared:\", score)\n",
        "mse = mean_squared_error(Ytrain, ypred_train)\n",
        "print(\"MSE: \", mse)\n",
        "print(\"RMSE: \", mse**(1/2.0))"
      ]
    },
    {
      "cell_type": "markdown",
      "source": [
        "### Now to assess the predictive performance of the model on the hold-out test set"
      ],
      "metadata": {
        "id": "vkOsf177Qs2l"
      }
    },
    {
      "cell_type": "code",
      "source": [
        "import numpy as np\n",
        "\n",
        "x = Ytest\n",
        "y = rfr.predict(xtest)\n",
        "a, b = np.polyfit(x, y, 1)\n",
        "\n",
        "print(\"Test Scores\")\n",
        "print(\"_______________\")\n",
        "correlation = np.corrcoef(x, y)[0,1]\n",
        "print(\"Correlation:\", correlation)\n",
        "rsquare = correlation**2\n",
        "print(\"Testset Rsquare:\", rsquare)\n",
        "mse = mean_squared_error(Ytest, y)\n",
        "print(\"MSE: \", mse)\n",
        "print(\"RMSE: \", mse**(1/2.0))"
      ],
      "metadata": {
        "colab": {
          "base_uri": "https://localhost:8080/"
        },
        "id": "kwHFuPWWQ2NE",
        "outputId": "eb5bb642-ac08-416a-e501-d5d9219118b9"
      },
      "execution_count": 8,
      "outputs": [
        {
          "output_type": "stream",
          "name": "stdout",
          "text": [
            "Test Scores\n",
            "_______________\n",
            "Correlation: 0.8754023331865733\n",
            "Testset Rsquare: 0.7663292449484964\n",
            "MSE:  0.6016902204439172\n",
            "RMSE:  0.775686934557955\n"
          ]
        }
      ]
    },
    {
      "cell_type": "code",
      "source": [
        "#Find axis dimensions for scatter plot\n",
        "import math\n",
        "max_dim = math.ceil(max(x.max(),y.max())) +1\n",
        "min_dim = math.floor(min(x.min(), y.min())) -1"
      ],
      "metadata": {
        "id": "9Ksu9qewQ5Tr"
      },
      "execution_count": 9,
      "outputs": []
    },
    {
      "cell_type": "code",
      "source": [
        "plt.scatter(x, y)\n",
        "plt.ylim([min_dim, max_dim])\n",
        "plt.xlim([min_dim, max_dim])\n",
        "plt.plot(x, a*x+b)\n",
        "plt.plot([min_dim, max_dim], [min_dim, max_dim], linestyle='--', color='red')\n",
        "plt.title(\"Random Forrest Regression Model predicting Expr (2048)\")\n",
        "plt.xlabel('Test Set Expr Values')\n",
        "plt.ylabel('Predicted Expr Values')"
      ],
      "metadata": {
        "colab": {
          "base_uri": "https://localhost:8080/",
          "height": 490
        },
        "id": "mWHqhELoQ67R",
        "outputId": "647392b6-fe7b-4e2b-8639-0910b7d1e5ca"
      },
      "execution_count": 10,
      "outputs": [
        {
          "output_type": "execute_result",
          "data": {
            "text/plain": [
              "Text(0, 0.5, 'Predicted Expr Values')"
            ]
          },
          "metadata": {},
          "execution_count": 10
        },
        {
          "output_type": "display_data",
          "data": {
            "text/plain": [
              "<Figure size 640x480 with 1 Axes>"
            ],
            "image/png": "[encoded data removed]"
          },
          "metadata": {}
        }
      ]
    },
    {
      "cell_type": "markdown",
      "source": [
        "## Finally, you can save the model for future use.\n",
        "Don't forget to download the \".pkl\" file."
      ],
      "metadata": {
        "id": "BJg9rMHMdPDI"
      }
    },
    {
      "cell_type": "code",
      "source": [
        "# Finally we should save the model for future use.\n",
        "# This example saves the models called \"rfr\" used in the demo above.\n",
        "# We can generate several models by changing the random forest parameters and see which is best.\n",
        "import joblib\n",
        "joblib.dump(rfr, 'first_rfr.pkl')"
      ],
      "metadata": {
        "id": "LGDP6oxWcSiZ",
        "colab": {
          "base_uri": "https://localhost:8080/"
        },
        "outputId": "4a201a67-9f3c-47d6-dde4-e94a5dbfdda2"
      },
      "execution_count": null,
      "outputs": [
        {
          "output_type": "execute_result",
          "data": {
            "text/plain": [
              "['first_rfr.pkl']"
            ]
          },
          "metadata": {},
          "execution_count": 11
        }
      ]
    },
    {
      "cell_type": "markdown",
      "source": [
        "## The code below demonstrates loading the saved model to use on a fresh prospective dataset.\n",
        "Prospective data is hard to get and we often use a hold-out dataset that was not used in development of the model for the purpose of final model performance assessment.\n",
        "\n",
        "Here is a workflow from the Scikitlearn documentation for cross validation. Note the Test Data on the right takes no part in model development and validation on the left.\n",
        "\n",
        "https://scikit-learn.org/stable/modules/cross_validation.html\n"
      ],
      "metadata": {
        "id": "BQghY0Dnd5J-"
      }
    },
    {
      "cell_type": "markdown",
      "source": [
        "<img src=\"https://scikit-learn.org/stable/_images/grid_search_workflow.png\" width=\"400\">"
      ],
      "metadata": {
        "id": "5We4qolPh9oZ"
      }
    },
    {
      "cell_type": "code",
      "source": [
        "#later you can load the model and predict on a completely new dataset.\n",
        "#Load model from .pkl file\n",
        "import joblib\n",
        "\n",
        "RFR_predictor = joblib.load('first_rfr.pkl')\n",
        "\n",
        "# Here we would have a csv file containing only the 1024 fingerprint values,\n",
        "# But we don't know the LogA values for them so X_hold_out = the whole file.\n",
        "\n",
        "X_hold_out = pd.read_csv(\"XXX\")\n",
        "# Predict data set using loaded model\n",
        "New_pred = RFR_predictor.predict(X_hold_out)"
      ],
      "metadata": {
        "id": "DX2HLrJMc04l"
      },
      "execution_count": null,
      "outputs": []
    },
    {
      "cell_type": "code",
      "source": [
        "import numpy as np\n",
        "from sklearn.model_selection import train_test_split\n",
        "from sklearn.ensemble import ExtraTreesRegressor\n",
        "from sklearn.metrics import mean_squared_error\n",
        "\n",
        "# Assuming X and Y are defined somewhere in your code\n",
        "\n",
        "xtrain, xtest, Ytrain, Ytest = train_test_split(X, Y, test_size=0.15, random_state=42)\n",
        "\n",
        "# Fit ExtraTreesRegressor model\n",
        "etr = ExtraTreesRegressor(random_state=42)\n",
        "etr.fit(xtrain, Ytrain)\n",
        "\n",
        "# Predict on training set\n",
        "ypred_train = etr.predict(xtrain)\n",
        "\n",
        "# Print training scores\n",
        "print(\"Training Scores\")\n",
        "print(\"_______________\")\n",
        "correlation = np.corrcoef(ypred_train, Ytrain)[0, 1]\n",
        "print(\"Correlation:\", correlation)\n",
        "score = etr.score(xtrain, Ytrain)\n",
        "print(\"R-squared:\", score)\n",
        "mse = mean_squared_error(Ytrain, ypred_train)\n",
        "print(\"MSE: \", mse)\n",
        "print(\"RMSE: \", mse ** (1 / 2.0))"
      ],
      "metadata": {
        "colab": {
          "base_uri": "https://localhost:8080/"
        },
        "id": "YL-AJpRCJ7eW",
        "outputId": "7a4f785e-75da-4cea-a372-8d39e8a150f0"
      },
      "execution_count": 11,
      "outputs": [
        {
          "output_type": "stream",
          "name": "stdout",
          "text": [
            "Training Scores\n",
            "_______________\n",
            "Correlation: 0.9965348936714425\n",
            "R-squared: 0.9930817943047545\n",
            "MSE:  0.018967584745762708\n",
            "RMSE:  0.1377228548417535\n"
          ]
        }
      ]
    },
    {
      "cell_type": "code",
      "source": [
        "import numpy as np\n",
        "from sklearn.metrics import mean_squared_error\n",
        "\n",
        "# Assuming x, xtest, Ytest, and etr are defined somewhere in your code\n",
        "\n",
        "# Predict on the test set\n",
        "y = etr.predict(xtest)\n",
        "\n",
        "# Fit a linear regression model to get the coefficients\n",
        "a, b = np.polyfit(Ytest, y, 1)\n",
        "\n",
        "# Print test scores\n",
        "print(\"Test Scores\")\n",
        "print(\"_______________\")\n",
        "correlation = np.corrcoef(Ytest, y)[0, 1]\n",
        "print(\"Correlation:\", correlation)\n",
        "rsquare = correlation ** 2\n",
        "print(\"Testset Rsquare:\", rsquare)\n",
        "mse = mean_squared_error(Ytest, y)\n",
        "print(\"MSE: \", mse)\n",
        "print(\"RMSE: \", mse ** (1 / 2.0))"
      ],
      "metadata": {
        "colab": {
          "base_uri": "https://localhost:8080/"
        },
        "id": "Hd7DYZcCMFxe",
        "outputId": "634fcbf2-c81c-48ee-ffd3-5813ab4aeedf"
      },
      "execution_count": 12,
      "outputs": [
        {
          "output_type": "stream",
          "name": "stdout",
          "text": [
            "Test Scores\n",
            "_______________\n",
            "Correlation: 0.8759337323316015\n",
            "Testset Rsquare: 0.7672599034363697\n",
            "MSE:  0.6478714850595222\n",
            "RMSE:  0.8049046434575479\n"
          ]
        }
      ]
    },
    {
      "cell_type": "code",
      "source": [
        "import numpy as np\n",
        "from sklearn.ensemble import ExtraTreesRegressor\n",
        "\n",
        "# Assuming x and y are defined as feature variable and target variable, respectively\n",
        "\n",
        "# Train the ExtraTreesRegressor model\n",
        "etr = ExtraTreesRegressor(random_state=42)  # You can adjust parameters as needed\n",
        "etr.fit(x.reshape(-1, 1), y)  # Reshape x to a 2D array if needed\n",
        "\n",
        "# Make predictions using the trained ExtraTreesRegressor model\n",
        "ypred = etr.predict(x.reshape(-1, 1))  # Reshape x to a 2D array if needed"
      ],
      "metadata": {
        "id": "KE9ES0NEMrdu"
      },
      "execution_count": 13,
      "outputs": []
    },
    {
      "cell_type": "code",
      "source": [
        "import numpy as np\n",
        "import matplotlib.pyplot as plt\n",
        "plt.scatter(x, y)\n",
        "plt.ylim([min_dim, max_dim])\n",
        "plt.xlim([min_dim, max_dim])\n",
        "plt.plot(x, a*x+b)\n",
        "plt.plot([min_dim, max_dim], [min_dim, max_dim], linestyle='--', color='red')\n",
        "plt.title(\"Extra Trees Regression Model predicting Expr (2048)\")\n",
        "plt.xlabel('Test Set Expr Values')\n",
        "plt.ylabel('Predicted Expr Values')"
      ],
      "metadata": {
        "colab": {
          "base_uri": "https://localhost:8080/",
          "height": 490
        },
        "id": "27-9FH7PMtAl",
        "outputId": "7f80f824-15cb-4c71-95f7-1f174bf0d1e0"
      },
      "execution_count": 14,
      "outputs": [
        {
          "output_type": "execute_result",
          "data": {
            "text/plain": [
              "Text(0, 0.5, 'Predicted Expr Values')"
            ]
          },
          "metadata": {},
          "execution_count": 14
        },
        {
          "output_type": "display_data",
          "data": {
            "text/plain": [
              "<Figure size 640x480 with 1 Axes>"
            ],
            "image/png": "[encoded data removed]"
          },
          "metadata": {}
        }
      ]
    },
    {
      "cell_type": "code",
      "source": [
        "# Finally we should save the model for future use.\n",
        "# This example saves the models called \"etr\" used in the demo above.\n",
        "# We can generate several models by changing the random forest parameters and see which is best.\n",
        "import joblib\n",
        "joblib.dump(etr, 'first_etr.pkl')"
      ],
      "metadata": {
        "colab": {
          "base_uri": "https://localhost:8080/"
        },
        "id": "UXeMS1isZYb-",
        "outputId": "7936f31c-8a7c-4c80-fed1-d44c2c078d02"
      },
      "execution_count": null,
      "outputs": [
        {
          "output_type": "execute_result",
          "data": {
            "text/plain": [
              "['first_etr.pkl']"
            ]
          },
          "metadata": {},
          "execution_count": 16
        }
      ]
    },
    {
      "cell_type": "code",
      "source": [
        "#later you can load the model and predict on a completely new dataset.\n",
        "#Load model from .pkl file\n",
        "import joblib\n",
        "\n",
        "ETR_predictor = joblib.load('first_etr.pkl')\n",
        "\n",
        "# Here we would have a csv file containing only the 1024 fingerprint values,\n",
        "# But we don't know the LogA values for them so X_hold_out = the whole file.\n",
        "\n",
        "X_hold_out = pd.read_csv(\"XXX.csv\")\n",
        "\n",
        "# Predict data set using loaded model\n",
        "New_pred = ETR_predictor.predict(X_hold_out)"
      ],
      "metadata": {
        "id": "4lJfGAJYbIJe"
      },
      "execution_count": null,
      "outputs": []
    }
  ]
}